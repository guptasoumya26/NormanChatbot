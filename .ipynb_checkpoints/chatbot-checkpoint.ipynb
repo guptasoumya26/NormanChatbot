{
 "cells": [
  {
   "cell_type": "code",
   "execution_count": 3,
   "metadata": {},
   "outputs": [
    {
     "name": "stdout",
     "output_type": "stream",
     "text": [
      "[<pyttsx3.voice.Voice object at 0x000001F021F045C0>, <pyttsx3.voice.Voice object at 0x000001F021F040F0>]\n",
      "List Trainer: [####################] 100%\n"
     ]
    },
    {
     "name": "stderr",
     "output_type": "stream",
     "text": [
      "[nltk_data] Downloading package stopwords to\n",
      "[nltk_data]     C:\\Users\\Soumyansh\\AppData\\Roaming\\nltk_data...\n",
      "[nltk_data]   Package stopwords is already up-to-date!\n",
      "[nltk_data] Downloading package averaged_perceptron_tagger to\n",
      "[nltk_data]     C:\\Users\\Soumyansh\\AppData\\Roaming\\nltk_data...\n",
      "[nltk_data]   Package averaged_perceptron_tagger is already up-to-\n",
      "[nltk_data]       date!\n"
     ]
    }
   ],
   "source": [
    "from tkinter import *\n",
    "from PIL import ImageTk, Image\n",
    "from chatterbot import ChatBot\n",
    "import pyttsx3 as pp\n",
    "from chatterbot.trainers import ListTrainer\n",
    "\n",
    "engine=pp.init()\n",
    "bot = ChatBot('Norman')\n",
    "voices=engine.getProperty('voices')\n",
    "\n",
    "print(voices)\n",
    "engine.setProperty('voice',voices[0].id)\n",
    "\n",
    "def speak(word):\n",
    "    engine.say(word)\n",
    "    engine.runAndWait()\n",
    "\n",
    "\n",
    "\n",
    "\n",
    "\n",
    "convo=[\"hello\",\n",
    "       \"Hi There\",\n",
    "       \"What is your name?\",\n",
    "       \"My name is Norman and i am here to assist you\",\n",
    "       \"Where do you live?\",\n",
    "       \"I am a virtual assistant\",\n",
    "       \"Hi\",\n",
    "       \"Hello there !!\"\n",
    "    \n",
    "]\n",
    "\n",
    "trainer=ListTrainer(bot)\n",
    "\n",
    "#now training the bot\n",
    "\n",
    "trainer.train(convo)\n",
    "\n",
    "\n",
    "root = Tk()\n",
    "#root.geometry(\"480x400\")\n",
    "\n",
    "img_gif=PhotoImage(file='chatbot.gif')\n",
    "## Displaying in Label\n",
    "photoLabel=Label(image=img_gif)\n",
    "photoLabel.pack()\n",
    "\n",
    "frame=Frame(root)\n",
    "sc=Scrollbar(frame)\n",
    "msgs=Listbox(frame,width=80,height=20,yscrollcommand=sc.set)\n",
    "sc.pack(side=RIGHT,fill=Y)\n",
    "msgs.pack(side=LEFT,fill=BOTH,pady=10)\n",
    "frame.pack()\n",
    "\n",
    "\n",
    "## Creating text field\n",
    "textF=Entry(root,font=(\"Verdana\",20))\n",
    "textF.pack(fill=X,pady=10)\n",
    "\n",
    "def askFromBot():\n",
    "    query=textF.get()\n",
    "    ans_from_bot=bot.get_response(query)\n",
    "    msgs.insert(END,\"You : \"+query)\n",
    "    msgs.insert(END,\"Norman : \"+str(ans_from_bot))\n",
    "    speak(ans_from_bot)\n",
    "    textF.delete(0,END)\n",
    "    msgs.yview(END)\n",
    "    \n",
    "    \n",
    "btn=Button(root,text=\"Ask from Norman\",font=(\"Verdana\",10),command=askFromBot)\n",
    "btn.pack()\n",
    "\n",
    "\n",
    "## creating a function for enter key\n",
    "def enterKey_function(event):\n",
    "    btn.invoke()\n",
    "\n",
    "## going to bind main window with enter key\n",
    "root.bind('<Return>',enterKey_function)\n",
    "\n",
    "\n",
    "root.mainloop()\n",
    "\n"
   ]
  },
  {
   "cell_type": "code",
   "execution_count": null,
   "metadata": {},
   "outputs": [],
   "source": []
  }
 ],
 "metadata": {
  "kernelspec": {
   "display_name": "Python 3",
   "language": "python",
   "name": "python3"
  },
  "language_info": {
   "codemirror_mode": {
    "name": "ipython",
    "version": 3
   },
   "file_extension": ".py",
   "mimetype": "text/x-python",
   "name": "python",
   "nbconvert_exporter": "python",
   "pygments_lexer": "ipython3",
   "version": "3.7.3"
  }
 },
 "nbformat": 4,
 "nbformat_minor": 2
}
